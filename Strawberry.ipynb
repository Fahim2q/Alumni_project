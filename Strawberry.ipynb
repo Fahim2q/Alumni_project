{
  "nbformat": 4,
  "nbformat_minor": 0,
  "metadata": {
    "colab": {
      "provenance": [],
      "gpuType": "T4",
      "authorship_tag": "ABX9TyPptHL1btkv3iaheXScdmZW",
      "include_colab_link": true
    },
    "kernelspec": {
      "name": "python3",
      "display_name": "Python 3"
    },
    "language_info": {
      "name": "python"
    },
    "accelerator": "GPU"
  },
  "cells": [
    {
      "cell_type": "markdown",
      "metadata": {
        "id": "view-in-github",
        "colab_type": "text"
      },
      "source": [
        "<a href=\"https://colab.research.google.com/github/Fahim2q/Alumni_project/blob/main/Strawberry.ipynb\" target=\"_parent\"><img src=\"https://colab.research.google.com/assets/colab-badge.svg\" alt=\"Open In Colab\"/></a>"
      ]
    },
    {
      "cell_type": "code",
      "execution_count": 1,
      "metadata": {
        "id": "hqZTH8-JCaI3",
        "colab": {
          "base_uri": "https://localhost:8080/"
        },
        "outputId": "9004ca72-0ea4-4a06-80b8-1b955bd20c77"
      },
      "outputs": [
        {
          "output_type": "stream",
          "name": "stdout",
          "text": [
            "Requirement already satisfied: tensorflow in /usr/local/lib/python3.12/dist-packages (2.19.0)\n",
            "Requirement already satisfied: absl-py>=1.0.0 in /usr/local/lib/python3.12/dist-packages (from tensorflow) (1.4.0)\n",
            "Requirement already satisfied: astunparse>=1.6.0 in /usr/local/lib/python3.12/dist-packages (from tensorflow) (1.6.3)\n",
            "Requirement already satisfied: flatbuffers>=24.3.25 in /usr/local/lib/python3.12/dist-packages (from tensorflow) (25.9.23)\n",
            "Requirement already satisfied: gast!=0.5.0,!=0.5.1,!=0.5.2,>=0.2.1 in /usr/local/lib/python3.12/dist-packages (from tensorflow) (0.6.0)\n",
            "Requirement already satisfied: google-pasta>=0.1.1 in /usr/local/lib/python3.12/dist-packages (from tensorflow) (0.2.0)\n",
            "Requirement already satisfied: libclang>=13.0.0 in /usr/local/lib/python3.12/dist-packages (from tensorflow) (18.1.1)\n",
            "Requirement already satisfied: opt-einsum>=2.3.2 in /usr/local/lib/python3.12/dist-packages (from tensorflow) (3.4.0)\n",
            "Requirement already satisfied: packaging in /usr/local/lib/python3.12/dist-packages (from tensorflow) (25.0)\n",
            "Requirement already satisfied: protobuf!=4.21.0,!=4.21.1,!=4.21.2,!=4.21.3,!=4.21.4,!=4.21.5,<6.0.0dev,>=3.20.3 in /usr/local/lib/python3.12/dist-packages (from tensorflow) (5.29.5)\n",
            "Requirement already satisfied: requests<3,>=2.21.0 in /usr/local/lib/python3.12/dist-packages (from tensorflow) (2.32.4)\n",
            "Requirement already satisfied: setuptools in /usr/local/lib/python3.12/dist-packages (from tensorflow) (75.2.0)\n",
            "Requirement already satisfied: six>=1.12.0 in /usr/local/lib/python3.12/dist-packages (from tensorflow) (1.17.0)\n",
            "Requirement already satisfied: termcolor>=1.1.0 in /usr/local/lib/python3.12/dist-packages (from tensorflow) (3.1.0)\n",
            "Requirement already satisfied: typing-extensions>=3.6.6 in /usr/local/lib/python3.12/dist-packages (from tensorflow) (4.15.0)\n",
            "Requirement already satisfied: wrapt>=1.11.0 in /usr/local/lib/python3.12/dist-packages (from tensorflow) (1.17.3)\n",
            "Requirement already satisfied: grpcio<2.0,>=1.24.3 in /usr/local/lib/python3.12/dist-packages (from tensorflow) (1.75.1)\n",
            "Requirement already satisfied: tensorboard~=2.19.0 in /usr/local/lib/python3.12/dist-packages (from tensorflow) (2.19.0)\n",
            "Requirement already satisfied: keras>=3.5.0 in /usr/local/lib/python3.12/dist-packages (from tensorflow) (3.10.0)\n",
            "Requirement already satisfied: numpy<2.2.0,>=1.26.0 in /usr/local/lib/python3.12/dist-packages (from tensorflow) (2.0.2)\n",
            "Requirement already satisfied: h5py>=3.11.0 in /usr/local/lib/python3.12/dist-packages (from tensorflow) (3.14.0)\n",
            "Requirement already satisfied: ml-dtypes<1.0.0,>=0.5.1 in /usr/local/lib/python3.12/dist-packages (from tensorflow) (0.5.3)\n",
            "Requirement already satisfied: wheel<1.0,>=0.23.0 in /usr/local/lib/python3.12/dist-packages (from astunparse>=1.6.0->tensorflow) (0.45.1)\n",
            "Requirement already satisfied: rich in /usr/local/lib/python3.12/dist-packages (from keras>=3.5.0->tensorflow) (13.9.4)\n",
            "Requirement already satisfied: namex in /usr/local/lib/python3.12/dist-packages (from keras>=3.5.0->tensorflow) (0.1.0)\n",
            "Requirement already satisfied: optree in /usr/local/lib/python3.12/dist-packages (from keras>=3.5.0->tensorflow) (0.17.0)\n",
            "Requirement already satisfied: charset_normalizer<4,>=2 in /usr/local/lib/python3.12/dist-packages (from requests<3,>=2.21.0->tensorflow) (3.4.3)\n",
            "Requirement already satisfied: idna<4,>=2.5 in /usr/local/lib/python3.12/dist-packages (from requests<3,>=2.21.0->tensorflow) (3.10)\n",
            "Requirement already satisfied: urllib3<3,>=1.21.1 in /usr/local/lib/python3.12/dist-packages (from requests<3,>=2.21.0->tensorflow) (2.5.0)\n",
            "Requirement already satisfied: certifi>=2017.4.17 in /usr/local/lib/python3.12/dist-packages (from requests<3,>=2.21.0->tensorflow) (2025.8.3)\n",
            "Requirement already satisfied: markdown>=2.6.8 in /usr/local/lib/python3.12/dist-packages (from tensorboard~=2.19.0->tensorflow) (3.9)\n",
            "Requirement already satisfied: tensorboard-data-server<0.8.0,>=0.7.0 in /usr/local/lib/python3.12/dist-packages (from tensorboard~=2.19.0->tensorflow) (0.7.2)\n",
            "Requirement already satisfied: werkzeug>=1.0.1 in /usr/local/lib/python3.12/dist-packages (from tensorboard~=2.19.0->tensorflow) (3.1.3)\n",
            "Requirement already satisfied: MarkupSafe>=2.1.1 in /usr/local/lib/python3.12/dist-packages (from werkzeug>=1.0.1->tensorboard~=2.19.0->tensorflow) (3.0.3)\n",
            "Requirement already satisfied: markdown-it-py>=2.2.0 in /usr/local/lib/python3.12/dist-packages (from rich->keras>=3.5.0->tensorflow) (4.0.0)\n",
            "Requirement already satisfied: pygments<3.0.0,>=2.13.0 in /usr/local/lib/python3.12/dist-packages (from rich->keras>=3.5.0->tensorflow) (2.19.2)\n",
            "Requirement already satisfied: mdurl~=0.1 in /usr/local/lib/python3.12/dist-packages (from markdown-it-py>=2.2.0->rich->keras>=3.5.0->tensorflow) (0.1.2)\n"
          ]
        }
      ],
      "source": [
        "#1\n",
        "!pip install tensorflow\n"
      ]
    },
    {
      "cell_type": "code",
      "source": [
        "#2\n",
        "from google.colab import drive\n",
        "drive.mount('/content/drive')\n",
        "\n",
        "import tensorflow as tf\n",
        "from tensorflow.keras import models,layers\n",
        "from sklearn.metrics import classification_report\n",
        "import matplotlib.pyplot as plt\n"
      ],
      "metadata": {
        "id": "4BDRH1d6CmuE",
        "colab": {
          "base_uri": "https://localhost:8080/"
        },
        "outputId": "4c314ddf-406d-493c-fc2b-2f3f81719038"
      },
      "execution_count": 2,
      "outputs": [
        {
          "output_type": "stream",
          "name": "stdout",
          "text": [
            "Mounted at /content/drive\n"
          ]
        }
      ]
    },
    {
      "cell_type": "code",
      "source": [
        "#2.5 = Adding mixed precision for better gpu utilization\n",
        "from tensorflow.keras import mixed_precision\n",
        "\n",
        "# Enable mixed precision globally (GPU-accelerated)\n",
        "policy = mixed_precision.Policy('mixed_float16')\n",
        "mixed_precision.set_global_policy(policy)\n",
        "\n",
        "print(\"✅ Mixed precision enabled:\", mixed_precision.global_policy())\n"
      ],
      "metadata": {
        "id": "_xn383A9Crkm",
        "colab": {
          "base_uri": "https://localhost:8080/"
        },
        "outputId": "9696e2a0-4e0d-4d46-b5dc-1313c6be942b"
      },
      "execution_count": 3,
      "outputs": [
        {
          "output_type": "stream",
          "name": "stdout",
          "text": [
            "✅ Mixed precision enabled: <DTypePolicy \"mixed_float16\">\n"
          ]
        }
      ]
    },
    {
      "cell_type": "code",
      "source": [
        "#3\n",
        "BATCH_SIZE = 32\n",
        "IMAGE_SIZE = 256\n",
        "CHANNELS = 3\n",
        "EPOCHS = 200\n"
      ],
      "metadata": {
        "id": "uNcwVWEJCwPo"
      },
      "execution_count": 4,
      "outputs": []
    },
    {
      "cell_type": "code",
      "source": [
        "#4\n",
        "dataset = tf.keras.preprocessing.image_dataset_from_directory(\n",
        "    \"/content/drive/MyDrive/Colab Notebooks/strawberry\",  # Path to your dataset\n",
        "    seed=123,\n",
        "    shuffle=True,\n",
        "    image_size=(IMAGE_SIZE, IMAGE_SIZE),\n",
        "    batch_size=BATCH_SIZE\n",
        ")\n"
      ],
      "metadata": {
        "id": "ypaSA_yNCzpF",
        "colab": {
          "base_uri": "https://localhost:8080/",
          "height": 356
        },
        "outputId": "8768e220-7fbc-4e47-f997-be68c1b84f4b"
      },
      "execution_count": 5,
      "outputs": [
        {
          "output_type": "error",
          "ename": "NotFoundError",
          "evalue": "Could not find directory /content/drive/MyDrive/Colab Notebooks/strawberry",
          "traceback": [
            "\u001b[0;31m---------------------------------------------------------------------------\u001b[0m",
            "\u001b[0;31mNotFoundError\u001b[0m                             Traceback (most recent call last)",
            "\u001b[0;32m/tmp/ipython-input-3607236706.py\u001b[0m in \u001b[0;36m<cell line: 0>\u001b[0;34m()\u001b[0m\n\u001b[1;32m      1\u001b[0m \u001b[0;31m#4\u001b[0m\u001b[0;34m\u001b[0m\u001b[0;34m\u001b[0m\u001b[0m\n\u001b[0;32m----> 2\u001b[0;31m dataset = tf.keras.preprocessing.image_dataset_from_directory(\n\u001b[0m\u001b[1;32m      3\u001b[0m     \u001b[0;34m\"/content/drive/MyDrive/Colab Notebooks/strawberry\"\u001b[0m\u001b[0;34m,\u001b[0m  \u001b[0;31m# Path to your dataset\u001b[0m\u001b[0;34m\u001b[0m\u001b[0;34m\u001b[0m\u001b[0m\n\u001b[1;32m      4\u001b[0m     \u001b[0mseed\u001b[0m\u001b[0;34m=\u001b[0m\u001b[0;36m123\u001b[0m\u001b[0;34m,\u001b[0m\u001b[0;34m\u001b[0m\u001b[0;34m\u001b[0m\u001b[0m\n\u001b[1;32m      5\u001b[0m     \u001b[0mshuffle\u001b[0m\u001b[0;34m=\u001b[0m\u001b[0;32mTrue\u001b[0m\u001b[0;34m,\u001b[0m\u001b[0;34m\u001b[0m\u001b[0;34m\u001b[0m\u001b[0m\n",
            "\u001b[0;32m/usr/local/lib/python3.12/dist-packages/keras/src/utils/image_dataset_utils.py\u001b[0m in \u001b[0;36mimage_dataset_from_directory\u001b[0;34m(directory, labels, label_mode, class_names, color_mode, batch_size, image_size, shuffle, seed, validation_split, subset, interpolation, follow_links, crop_to_aspect_ratio, pad_to_aspect_ratio, data_format, verbose)\u001b[0m\n\u001b[1;32m    230\u001b[0m     \u001b[0;32mif\u001b[0m \u001b[0mseed\u001b[0m \u001b[0;32mis\u001b[0m \u001b[0;32mNone\u001b[0m\u001b[0;34m:\u001b[0m\u001b[0;34m\u001b[0m\u001b[0;34m\u001b[0m\u001b[0m\n\u001b[1;32m    231\u001b[0m         \u001b[0mseed\u001b[0m \u001b[0;34m=\u001b[0m \u001b[0mnp\u001b[0m\u001b[0;34m.\u001b[0m\u001b[0mrandom\u001b[0m\u001b[0;34m.\u001b[0m\u001b[0mrandint\u001b[0m\u001b[0;34m(\u001b[0m\u001b[0;36m1e6\u001b[0m\u001b[0;34m)\u001b[0m\u001b[0;34m\u001b[0m\u001b[0;34m\u001b[0m\u001b[0m\n\u001b[0;32m--> 232\u001b[0;31m     image_paths, labels, class_names = dataset_utils.index_directory(\n\u001b[0m\u001b[1;32m    233\u001b[0m         \u001b[0mdirectory\u001b[0m\u001b[0;34m,\u001b[0m\u001b[0;34m\u001b[0m\u001b[0;34m\u001b[0m\u001b[0m\n\u001b[1;32m    234\u001b[0m         \u001b[0mlabels\u001b[0m\u001b[0;34m,\u001b[0m\u001b[0;34m\u001b[0m\u001b[0;34m\u001b[0m\u001b[0m\n",
            "\u001b[0;32m/usr/local/lib/python3.12/dist-packages/keras/src/utils/dataset_utils.py\u001b[0m in \u001b[0;36mindex_directory\u001b[0;34m(directory, labels, formats, class_names, shuffle, seed, follow_links, verbose)\u001b[0m\n\u001b[1;32m    528\u001b[0m     \u001b[0;32mif\u001b[0m \u001b[0mlabels\u001b[0m \u001b[0;34m==\u001b[0m \u001b[0;34m\"inferred\"\u001b[0m\u001b[0;34m:\u001b[0m\u001b[0;34m\u001b[0m\u001b[0;34m\u001b[0m\u001b[0m\n\u001b[1;32m    529\u001b[0m         \u001b[0msubdirs\u001b[0m \u001b[0;34m=\u001b[0m \u001b[0;34m[\u001b[0m\u001b[0;34m]\u001b[0m\u001b[0;34m\u001b[0m\u001b[0;34m\u001b[0m\u001b[0m\n\u001b[0;32m--> 530\u001b[0;31m         \u001b[0;32mfor\u001b[0m \u001b[0msubdir\u001b[0m \u001b[0;32min\u001b[0m \u001b[0msorted\u001b[0m\u001b[0;34m(\u001b[0m\u001b[0mtf\u001b[0m\u001b[0;34m.\u001b[0m\u001b[0mio\u001b[0m\u001b[0;34m.\u001b[0m\u001b[0mgfile\u001b[0m\u001b[0;34m.\u001b[0m\u001b[0mlistdir\u001b[0m\u001b[0;34m(\u001b[0m\u001b[0mdirectory\u001b[0m\u001b[0;34m)\u001b[0m\u001b[0;34m)\u001b[0m\u001b[0;34m:\u001b[0m\u001b[0;34m\u001b[0m\u001b[0;34m\u001b[0m\u001b[0m\n\u001b[0m\u001b[1;32m    531\u001b[0m             \u001b[0;32mif\u001b[0m \u001b[0mtf\u001b[0m\u001b[0;34m.\u001b[0m\u001b[0mio\u001b[0m\u001b[0;34m.\u001b[0m\u001b[0mgfile\u001b[0m\u001b[0;34m.\u001b[0m\u001b[0misdir\u001b[0m\u001b[0;34m(\u001b[0m\u001b[0mtf\u001b[0m\u001b[0;34m.\u001b[0m\u001b[0mio\u001b[0m\u001b[0;34m.\u001b[0m\u001b[0mgfile\u001b[0m\u001b[0;34m.\u001b[0m\u001b[0mjoin\u001b[0m\u001b[0;34m(\u001b[0m\u001b[0mdirectory\u001b[0m\u001b[0;34m,\u001b[0m \u001b[0msubdir\u001b[0m\u001b[0;34m)\u001b[0m\u001b[0;34m)\u001b[0m\u001b[0;34m:\u001b[0m\u001b[0;34m\u001b[0m\u001b[0;34m\u001b[0m\u001b[0m\n\u001b[1;32m    532\u001b[0m                 \u001b[0;32mif\u001b[0m \u001b[0;32mnot\u001b[0m \u001b[0msubdir\u001b[0m\u001b[0;34m.\u001b[0m\u001b[0mstartswith\u001b[0m\u001b[0;34m(\u001b[0m\u001b[0;34m\".\"\u001b[0m\u001b[0;34m)\u001b[0m\u001b[0;34m:\u001b[0m\u001b[0;34m\u001b[0m\u001b[0;34m\u001b[0m\u001b[0m\n",
            "\u001b[0;32m/usr/local/lib/python3.12/dist-packages/tensorflow/python/lib/io/file_io.py\u001b[0m in \u001b[0;36mlist_directory_v2\u001b[0;34m(path)\u001b[0m\n\u001b[1;32m    766\u001b[0m   \"\"\"\n\u001b[1;32m    767\u001b[0m   \u001b[0;32mif\u001b[0m \u001b[0;32mnot\u001b[0m \u001b[0mis_directory\u001b[0m\u001b[0;34m(\u001b[0m\u001b[0mpath\u001b[0m\u001b[0;34m)\u001b[0m\u001b[0;34m:\u001b[0m\u001b[0;34m\u001b[0m\u001b[0;34m\u001b[0m\u001b[0m\n\u001b[0;32m--> 768\u001b[0;31m     raise errors.NotFoundError(\n\u001b[0m\u001b[1;32m    769\u001b[0m         \u001b[0mnode_def\u001b[0m\u001b[0;34m=\u001b[0m\u001b[0;32mNone\u001b[0m\u001b[0;34m,\u001b[0m\u001b[0;34m\u001b[0m\u001b[0;34m\u001b[0m\u001b[0m\n\u001b[1;32m    770\u001b[0m         \u001b[0mop\u001b[0m\u001b[0;34m=\u001b[0m\u001b[0;32mNone\u001b[0m\u001b[0;34m,\u001b[0m\u001b[0;34m\u001b[0m\u001b[0;34m\u001b[0m\u001b[0m\n",
            "\u001b[0;31mNotFoundError\u001b[0m: Could not find directory /content/drive/MyDrive/Colab Notebooks/strawberry"
          ]
        }
      ]
    },
    {
      "cell_type": "code",
      "source": [
        "#5\n",
        "class_names=dataset.class_names\n",
        "class_names\n"
      ],
      "metadata": {
        "id": "Nv9NbTKXC3Rq"
      },
      "execution_count": null,
      "outputs": []
    },
    {
      "cell_type": "code",
      "source": [
        "#6\n",
        "for image_batch,layers_batch in dataset.take(1):\n",
        "    print(image_batch.shape)\n",
        "    print(layers_batch.numpy())\n",
        "\n",
        "   # for i in range(min(12, len(image_batch))):  # Adjust loop to fit batch size\n",
        "    for i in range(12):\n",
        "        ax=plt.subplot(3,4,i+1)\n",
        "        plt.imshow(image_batch[i].numpy().astype(\"uint8\"))\n",
        "        plt.title(class_names[layers_batch[i]])\n",
        "        plt.axis(\"off\")\n"
      ],
      "metadata": {
        "id": "7ogyvFu0C7SU"
      },
      "execution_count": null,
      "outputs": []
    },
    {
      "cell_type": "code",
      "source": [
        "\n",
        "#7\n",
        "len(dataset)\n"
      ],
      "metadata": {
        "id": "xGiTsSZuC-uZ"
      },
      "execution_count": null,
      "outputs": []
    },
    {
      "cell_type": "code",
      "source": [
        "\n",
        "#7\n",
        "len(dataset)\n"
      ],
      "metadata": {
        "id": "WsPj9UWcDDxc"
      },
      "execution_count": null,
      "outputs": []
    },
    {
      "cell_type": "code",
      "source": [
        "\n",
        "#9\n",
        "def get_dataset_partition_tf(ds, train_spilt=0.6,val_spilt=0.2,test_spilt=0.2,shuffle=True,shuffle_size=200):\n",
        "    assert(train_spilt+val_spilt+test_spilt) == 1\n",
        "    ds_size=len(ds)\n",
        "    if shuffle:\n",
        "        ds=ds.shuffle(shuffle_size,seed=12)\n",
        "    train_size=int(ds_size*train_spilt)\n",
        "    val_size=int(ds_size*val_spilt)\n",
        "\n",
        "    train_ds=ds.take(train_size)\n",
        "    val_ds=ds.skip(train_size).take(val_size)\n",
        "    test_ds=ds.skip(train_size).skip(val_size)\n",
        "\n",
        "    return train_ds,val_ds,test_ds\n"
      ],
      "metadata": {
        "id": "of8tWJLjDE99"
      },
      "execution_count": null,
      "outputs": []
    },
    {
      "cell_type": "code",
      "source": [
        "#10\n",
        "train_ds,val_ds,test_ds=get_dataset_partition_tf(dataset)\n"
      ],
      "metadata": {
        "id": "6Yv6G-z7DLKi"
      },
      "execution_count": null,
      "outputs": []
    },
    {
      "cell_type": "code",
      "source": [
        "#10.5 - Automatic Class Balancing\n",
        "import numpy as np\n",
        "from sklearn.utils.class_weight import compute_class_weight\n",
        "from collections import Counter\n",
        "\n",
        "print(\"📊 CALCULATING CLASS DISTRIBUTION FOR AUTOMATIC BALANCING...\")\n",
        "\n",
        "# Extract all labels from training dataset\n",
        "train_labels = []\n",
        "for _, labels_batch in train_ds:\n",
        "    train_labels.extend(labels_batch.numpy())\n",
        "\n",
        "# Count samples per class\n",
        "class_counts = Counter(train_labels)\n",
        "total_samples = len(train_labels)\n",
        "\n",
        "# Display class distribution\n",
        "print(f\"\\n📈 CLASS DISTRIBUTION (Total: {total_samples} samples):\")\n",
        "for class_idx, count in sorted(class_counts.items()):\n",
        "    percentage = (count / total_samples) * 100\n",
        "    print(f\"  {class_names[class_idx]:15} → {count:4d} samples ({percentage:.1f}%)\")\n",
        "\n",
        "# Calculate class weights using sklearn's balanced approach\n",
        "unique_classes = np.unique(train_labels)\n",
        "class_weights_array = compute_class_weight(\n",
        "    class_weight='balanced',\n",
        "    classes=unique_classes,\n",
        "    y=train_labels\n",
        ")\n",
        "# Convert to dictionary format for Keras\n",
        "class_weights = {i: weight for i, weight in enumerate(class_weights_array)}\n",
        "\n",
        "print(f\"\\n⚖️  CALCULATED CLASS WEIGHTS:\")\n",
        "for class_idx, weight in class_weights.items():\n",
        "    print(f\"  {class_names[class_idx]:15} → {weight:.3f}\")\n",
        "\n",
        "print(f\"\\n✅ Class balancing ready! Higher weights assigned to minority classes.\")\n",
        "\n",
        "\n"
      ],
      "metadata": {
        "id": "F2l9NKgCDPPt"
      },
      "execution_count": null,
      "outputs": []
    },
    {
      "cell_type": "code",
      "source": [
        "\n",
        "#11\n",
        "len(train_ds)\n"
      ],
      "metadata": {
        "id": "aA9S23lMDd0d"
      },
      "execution_count": null,
      "outputs": []
    },
    {
      "cell_type": "code",
      "source": [
        "#12\n",
        "len(val_ds)\n"
      ],
      "metadata": {
        "id": "m00JHhFsDhAK"
      },
      "execution_count": null,
      "outputs": []
    },
    {
      "cell_type": "code",
      "source": [
        "\n",
        "#13\n",
        "len(test_ds)\n"
      ],
      "metadata": {
        "id": "1R74XJCEDkPR"
      },
      "execution_count": null,
      "outputs": []
    },
    {
      "cell_type": "code",
      "source": [
        "#14\n",
        "(47*32)+(15*32)+(17*32)\n"
      ],
      "metadata": {
        "id": "8pbZxANoDnGL"
      },
      "execution_count": null,
      "outputs": []
    },
    {
      "cell_type": "code",
      "source": [
        "#15 (smart caching with auto-clean for disk cache)\n",
        "# (also with summary table)\n",
        "import psutil, os, shutil, time\n",
        "\n",
        "cache_summary = {}\n",
        "\n",
        "def optimize_dataset(ds, name=\"\", shuffle_buffer=1000):\n",
        "    # Estimate available memory (in GB)\n",
        "    available_gb = psutil.virtual_memory().available / (1024**3)\n",
        "\n",
        "    # Estimate dataset size in GB (approx for float32)\n",
        "    est_size_gb = (len(ds) * BATCH_SIZE * 0.00075)\n",
        "\n",
        "    # Check /tmp free space\n",
        "    tmp_usage = psutil.disk_usage(\"/tmp\")\n",
        "    tmp_free_gb = tmp_usage.free / (1024**3)\n",
        "\n",
        "    print(f\"\\n📂 {name.upper()} dataset estimated size: {est_size_gb:.2f} GB\")\n",
        "    print(f\"💻 Available RAM: {available_gb:.2f} GB | 💾 Free /tmp space: {tmp_free_gb:.2f} GB\")\n",
        "\n",
        "    if est_size_gb < available_gb * 0.3:\n",
        "        # Safe to cache in RAM\n",
        "        print(f\"✅ Using RAM cache() for {name} dataset\")\n",
        "        ds = ds.cache().shuffle(shuffle_buffer).prefetch(buffer_size=tf.data.AUTOTUNE)\n",
        "        cache_summary[name] = \"RAM cache\"\n",
        "\n",
        "    else:\n",
        "        # Too large for RAM → cache to disk if space allows\n",
        "        cache_path = f\"/tmp/{name}_cache\"\n",
        "\n",
        "        if est_size_gb > tmp_free_gb:\n",
        "            print(f\"❌ WARNING: {name} dataset (~{est_size_gb:.2f} GB) > free /tmp ({tmp_free_gb:.2f} GB). Skipping cache.\")\n",
        "            ds = ds.shuffle(shuffle_buffer).prefetch(buffer_size=tf.data.AUTOTUNE)\n",
        "            cache_summary[name] = \"No cache\"\n",
        "            return ds\n",
        "\n",
        "        # Auto-clean old cache\n",
        "        if os.path.exists(cache_path):\n",
        "            print(f\"🧹 Removing old cache at {cache_path}\")\n",
        "            shutil.rmtree(cache_path)\n",
        "\n",
        "        print(f\"💾 Caching {name} dataset to disk at {cache_path}...\")\n",
        "        start = time.time()\n",
        "        ds = ds.cache(cache_path).shuffle(shuffle_buffer).prefetch(buffer_size=tf.data.AUTOTUNE)\n",
        "        print(f\"✅ Finished caching {name} dataset in {time.time()-start:.2f} sec\")\n",
        "        cache_summary[name] = \"Disk cache\"\n",
        "\n",
        "    return ds\n",
        "\n",
        "\n",
        "# Apply optimization\n",
        "train_ds = optimize_dataset(train_ds, \"train\")\n",
        "val_ds   = optimize_dataset(val_ds, \"val\")\n",
        "test_ds  = optimize_dataset(test_ds, \"test\")\n",
        "\n",
        "# Print final summary\n",
        "print(\"\\n📊 DATASET CACHING SUMMARY:\")\n",
        "for k, v in cache_summary.items():\n",
        "    print(f\" - {k.upper()} → {v}\")\n",
        "\n",
        "\n",
        "\n",
        "#16\n",
        "for image_batch, layers_batch in dataset.take(1):\n",
        "    print(image_batch[0].numpy()/255)\n",
        "\n",
        "\n",
        "#17\n",
        "resizing_and_rescaling=tf.keras.Sequential([\n",
        "    layers.Resizing(IMAGE_SIZE,IMAGE_SIZE),\n",
        "    layers.Rescaling(1.0/255)\n",
        "])\n",
        "\n",
        "\n",
        "\n",
        "#18\n",
        "data_augmentation=tf.keras.Sequential([\n",
        "    layers.RandomFlip(\"horizontal_and_vertical\"),\n",
        "    layers.RandomRotation(0.2),\n",
        "])\n",
        "\n"
      ],
      "metadata": {
        "id": "35P6xBBIDqEV"
      },
      "execution_count": null,
      "outputs": []
    },
    {
      "cell_type": "code",
      "source": [
        "#19 - Original dataset augmentation for training\n",
        "train_ds = train_ds.map(\n",
        "    lambda x, y: (data_augmentation(x, training=True), y)\n",
        ").prefetch(buffer_size=tf.data.AUTOTUNE)\n"
      ],
      "metadata": {
        "id": "1geOQbAWDzi5"
      },
      "execution_count": null,
      "outputs": []
    },
    {
      "cell_type": "code",
      "source": [
        "\n",
        "#20 - Optimized model (augmentation stays inside, no redundancy)\n",
        "input_shape = (IMAGE_SIZE, IMAGE_SIZE, CHANNELS)\n",
        "n_classes = len(class_names)\n",
        "\n",
        "model = models.Sequential([\n",
        "    resizing_and_rescaling,\n",
        "    data_augmentation,   # augmentation happens here only (GPU-accelerated)\n",
        "\n",
        "    layers.Conv2D(32, (3,3), activation='relu', padding='same', input_shape=input_shape),\n",
        "    layers.MaxPooling2D(2,2),\n",
        "\n",
        "    layers.Conv2D(64, (3,3), activation='relu', padding='same'),\n",
        "    layers.MaxPooling2D(2,2),\n",
        "\n",
        "    layers.Conv2D(128, (3,3), activation='relu', padding='same'),\n",
        "    layers.MaxPooling2D(2,2),\n",
        "\n",
        "    layers.Conv2D(128, (3,3), activation='relu', padding='same'),\n",
        "    layers.MaxPooling2D(2,2),\n",
        "\n",
        " #layers.Flatten(),\n",
        "    layers.GlobalAveragePooling2D(), #flatten replaced with GAP\n",
        "    layers.Dense(128, activation='relu'),\n",
        "    layers.Dropout(0.3),\n",
        "    layers.Dense(n_classes, activation='softmax')\n",
        "])\n"
      ],
      "metadata": {
        "id": "IT1nmP7uD0q2"
      },
      "execution_count": null,
      "outputs": []
    },
    {
      "cell_type": "code",
      "source": [
        "#20.5\n",
        "# Epoch Time Callback\n",
        "import time\n",
        "\n",
        "class EpochTimeCallback(tf.keras.callbacks.Callback):\n",
        "    def on_train_begin(self, logs=None):\n",
        "        self.epoch_times = []\n",
        "\n",
        "    def on_epoch_begin(self, epoch, logs=None):\n",
        "        self.start_time = time.time()\n",
        "\n",
        "    def on_epoch_end(self, epoch, logs=None):\n",
        "        duration = time.time() - self.start_time\n",
        "        self.epoch_times.append(duration)\n",
        "        print(f\"⏱️ Epoch {epoch+1} took {duration:.2f} sec\")\n",
        "\n",
        "epoch_timer = EpochTimeCallback()\n"
      ],
      "metadata": {
        "id": "CmViYdKyD_A1"
      },
      "execution_count": null,
      "outputs": []
    },
    {
      "cell_type": "code",
      "source": [
        "\n",
        "#21\n",
        "model.summary()\n"
      ],
      "metadata": {
        "id": "gV813mVXEAUi"
      },
      "execution_count": null,
      "outputs": []
    },
    {
      "cell_type": "code",
      "source": [
        "#22\n",
        "from tensorflow.keras.callbacks import EarlyStopping, ModelCheckpoint\n",
        "\n",
        "early_stop = EarlyStopping(monitor='val_loss', patience=10, restore_best_weights=True)\n",
        "\n",
        "checkpoint = ModelCheckpoint(\n",
        "    \"/content/drive/MyDrive/lumpy_diseases_detection/best_model.h5\",\n",
        "    monitor='val_loss',\n",
        "    save_best_only=True,\n",
        "    verbose=1\n",
        ")\n"
      ],
      "metadata": {
        "id": "eJsClFhqEDtV"
      },
      "execution_count": null,
      "outputs": []
    },
    {
      "cell_type": "code",
      "source": [
        "#23\n",
        "model.compile(optimizer='adam',\n",
        "              loss=tf.keras.losses.SparseCategoricalCrossentropy(from_logits=False),\n",
        "              metrics=['accuracy'])\n"
      ],
      "metadata": {
        "id": "5_pTI078EHXv"
      },
      "execution_count": null,
      "outputs": []
    },
    {
      "cell_type": "code",
      "source": [
        "\n",
        "#24 - Robust Training with Checkpoint and Epoch Saver\n",
        "import os\n",
        "import tensorflow as tf\n",
        "import numpy as np\n",
        "\n",
        "# Paths for checkpoint and epoch saving\n",
        "checkpoint_path = \"/content/drive/MyDrive/lumpy_diseases_detection/last_model.h5\"\n",
        "epoch_file = \"/content/drive/MyDrive/lumpy_diseases_detection/last_epoch.npy\"\n",
        "\n",
        "# Define the EpochSaver callback\n",
        "class EpochSaver(tf.keras.callbacks.Callback):\n",
        "    def on_epoch_end(self, epoch, logs=None):\n",
        "        np.save(epoch_file, epoch)\n",
        "\n",
        "epoch_saver = EpochSaver()\n",
        "\n",
        "# Callbacks for early stopping and saving best model\n",
        "from tensorflow.keras.callbacks import EarlyStopping, ModelCheckpoint\n",
        "\n",
        "early_stop = EarlyStopping(monitor='val_loss', patience=10, restore_best_weights=True)\n",
        "checkpoint_cb = ModelCheckpoint(\n",
        "    checkpoint_path,\n",
        "    monitor='val_loss',\n",
        "    save_best_only=True,\n",
        "    verbose=1\n",
        ")\n",
        "\n",
        "# Initialize starting epoch\n",
        "initial_epoch = 0\n",
        "\n",
        "# Check if checkpoint exists\n",
        "if os.path.exists(checkpoint_path):\n",
        "    print(\"✅ Resuming training from checkpoint...\")\n",
        "    model = tf.keras.models.load_model(checkpoint_path)\n",
        "\n",
        "    # Recompile after loading\n",
        "    model.compile(optimizer='adam',\n",
        "                  loss=tf.keras.losses.SparseCategoricalCrossentropy(from_logits=False),\n",
        "                  metrics=['accuracy'])\n",
        "\n",
        "    # Load last saved epoch if available\n",
        "    if os.path.exists(epoch_file):\n",
        "        initial_epoch = int(np.load(epoch_file)) + 1\n",
        "        print(f\"Resuming from epoch {initial_epoch}\")\n",
        "else:\n",
        "    print(\"⚡ No checkpoint found. Starting training from scratch.\")\n",
        "    # Use model already defined in #20\n",
        "    model.compile(optimizer='adam',\n",
        "                  loss=tf.keras.losses.SparseCategoricalCrossentropy(from_logits=False),\n",
        "                  metrics=['accuracy'])\n",
        "\n",
        "# Start training\n",
        "history = model.fit(\n",
        "    train_ds,\n",
        "    validation_data=val_ds,\n",
        "    epochs=EPOCHS,\n",
        "    initial_epoch=initial_epoch,\n",
        "    class_weight=class_weights,  # ← ADD  (for class balancing)\n",
        "    callbacks=[early_stop, checkpoint_cb, epoch_saver, epoch_timer]\n",
        ")\n"
      ],
      "metadata": {
        "id": "cy2GkHpkELNl"
      },
      "execution_count": null,
      "outputs": []
    },
    {
      "cell_type": "code",
      "source": [
        "#25\n",
        "len(test_ds)\n"
      ],
      "metadata": {
        "id": "xleKvCSEERjM"
      },
      "execution_count": null,
      "outputs": []
    },
    {
      "cell_type": "code",
      "source": [
        "#26\n",
        "scores=model.evaluate(test_ds)\n"
      ],
      "metadata": {
        "id": "TZa5XtXfEV-z"
      },
      "execution_count": null,
      "outputs": []
    },
    {
      "cell_type": "code",
      "source": [
        "#27\n",
        "history.history.keys()\n"
      ],
      "metadata": {
        "id": "JwPrOL6wEaKh"
      },
      "execution_count": null,
      "outputs": []
    },
    {
      "cell_type": "code",
      "source": [
        "#28\n",
        "history.history['loss']\n"
      ],
      "metadata": {
        "id": "YvSZiHaHEdUp"
      },
      "execution_count": null,
      "outputs": []
    },
    {
      "cell_type": "code",
      "source": [
        "#29\n",
        "acc=history.history['accuracy']\n",
        "val_acc=history.history['val_accuracy']\n",
        "\n",
        "loss=history.history['loss']\n",
        "val_loss=history.history['val_loss']\n"
      ],
      "metadata": {
        "id": "kZwtKQcDEgIr"
      },
      "execution_count": null,
      "outputs": []
    },
    {
      "cell_type": "code",
      "source": [
        "#30\n",
        "plt.figure(figsize=(8,8))\n",
        "plt.subplot(1,2,1)\n",
        "plt.plot(range(len(acc)), acc, label='Training_accuracy')\n",
        "plt.plot(range(len(val_acc)), val_acc, label='Validation_accuracy')\n",
        "plt.legend(loc='lower right')\n",
        "plt.title('Training and Validation Accuracy')\n",
        "\n",
        "plt.subplot(1,2,2)\n",
        "plt.plot(range(len(loss)), loss, label='Training_loss')\n",
        "plt.plot(range(len(val_loss)), val_loss, label='Validation_loss')\n",
        "plt.legend(loc='upper right')\n",
        "plt.title('Training and Validation Loss')\n",
        "plt.show()\n"
      ],
      "metadata": {
        "id": "O3Bgc85RElKw"
      },
      "execution_count": null,
      "outputs": []
    },
    {
      "cell_type": "code",
      "source": [
        "\n",
        "#31\n",
        "import numpy as np\n",
        "actual=[]\n",
        "predicted=[]\n",
        "for images_batch, labels_batch in test_ds.take(24):  # 17 batches\n",
        "    for i in range(len(images_batch)):  # handle last batch < 32 safely\n",
        "        image = images_batch[i].numpy().astype(\"uint8\")\n",
        "        label = labels_batch[i].numpy()\n",
        "\n",
        "        print(f\"\\nImage {i}\")\n",
        "        print(\"Actual Disease: \", class_names[label])\n",
        "        actual.append(class_names[label])\n",
        "\n",
        "        # Add batch dimension to the image\n",
        "        prediction = model.predict(tf.expand_dims(images_batch[i], axis=0))\n",
        "        predicted_class = class_names[np.argmax(prediction[0])]\n",
        "\n",
        "        print(\"Predicted Disease: \", predicted_class)\n",
        "        predicted.append(predicted_class)\n"
      ],
      "metadata": {
        "id": "KFTYvUGPEpOM"
      },
      "execution_count": null,
      "outputs": []
    },
    {
      "cell_type": "code",
      "source": [
        "\n",
        "#32\n",
        "print(classification_report(actual, predicted))\n"
      ],
      "metadata": {
        "id": "F89QyBrkEuTO"
      },
      "execution_count": null,
      "outputs": []
    },
    {
      "cell_type": "code",
      "source": [
        "#33\n",
        "import matplotlib.pyplot as plt\n",
        "import seaborn as sns\n",
        "from sklearn.metrics import confusion_matrix\n",
        "\n",
        "# Generate the confusion matrix\n",
        "cm = confusion_matrix(actual, predicted, labels=class_names)\n",
        "\n",
        "# Plot it\n",
        "plt.figure(figsize=(8, 6))\n",
        "sns.heatmap(cm, annot=True, fmt='d', cmap='Blues',\n",
        "            xticklabels=class_names,\n",
        "            yticklabels=class_names)\n",
        "plt.xlabel('Predicted Label')\n",
        "plt.ylabel('True Label')\n",
        "plt.title('Confusion Matrix')\n",
        "plt.show()\n"
      ],
      "metadata": {
        "id": "C1_ZDe29EyFa"
      },
      "execution_count": null,
      "outputs": []
    },
    {
      "cell_type": "code",
      "source": [
        "#34\n",
        "def predict(model, img):\n",
        "    img_array = tf.keras.preprocessing.image.img_to_array(img)  # fixed\n",
        "    img_array = tf.expand_dims(img_array, 0)\n",
        "\n",
        "    prediction = model.predict(img_array)\n",
        "    predict_cls = class_names[np.argmax(prediction[0])]\n",
        "    confidence = round(100 * (np.max(prediction[0])), 2)\n",
        "    return predict_cls, confidence\n"
      ],
      "metadata": {
        "id": "EAWHOI0EE2MZ"
      },
      "execution_count": null,
      "outputs": []
    },
    {
      "cell_type": "code",
      "source": [
        "#35\n",
        "plt.figure(figsize=(15,15))\n",
        "for images,labels in test_ds.take(1):\n",
        "    for i in range(9):\n",
        "        ax=plt.subplot(3,3,i+1)\n",
        "        plt.imshow(images[i].numpy().astype(\"uint8\"))\n",
        "        predicted_class, confidence= predict(model,images[i].numpy())\n",
        "\n",
        "        actual_cls=class_names[labels[i]]\n",
        "        plt.title(f\"Actual: {actual_cls} \\n Predicted : {predicted_class} \\n Confidence : {confidence}%\")\n",
        "        plt.axis(\"off\")\n"
      ],
      "metadata": {
        "id": "_DpAH5PHE6W2"
      },
      "execution_count": null,
      "outputs": []
    },
    {
      "cell_type": "code",
      "source": [
        "#36\n",
        "model.save(\"/content/drive/MyDrive/lumpy_diseases_detection/cnn_lumpy_detection.h5\")\n"
      ],
      "metadata": {
        "id": "vHdauN3gE92W"
      },
      "execution_count": null,
      "outputs": []
    },
    {
      "cell_type": "code",
      "source": [
        "#37\n",
        "import tensorflow as tf\n",
        "\n",
        "# Load the saved model\n",
        "model = tf.keras.models.load_model(\"/content/drive/MyDrive/lumpy_diseases_detection/cnn_lumpy_detection.h5\")\n",
        "\n",
        "# Convert the model to TensorFlow Lite format\n",
        "converter = tf.lite.TFLiteConverter.from_keras_model(model)\n",
        "\n",
        "# (Optional) Enable optimizations for smaller size and better performance\n",
        "converter.optimizations = [tf.lite.Optimize.DEFAULT]\n",
        "\n",
        "# Convert the model\n",
        "tflite_model = converter.convert()\n",
        "\n",
        "# Save the converted model to a file\n",
        "with open(\"/content/drive/MyDrive/lumpy_diseases_detection/cnn_lumpy_detection_model.tflite\", \"wb\") as f:\n",
        "    f.write(tflite_model)\n",
        "\n",
        "print(\"✅ TFLite model has been successfully created!\")\n",
        "\n"
      ],
      "metadata": {
        "id": "KeIWY9-qFBWI"
      },
      "execution_count": null,
      "outputs": []
    },
    {
      "cell_type": "code",
      "source": [],
      "metadata": {
        "id": "_yoA0GORFEcZ"
      },
      "execution_count": null,
      "outputs": []
    }
  ]
}